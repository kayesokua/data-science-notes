{
 "cells": [
  {
   "attachments": {},
   "cell_type": "markdown",
   "metadata": {},
   "source": [
    "# Life Expectancy Visualization using Folium\n",
    "\n",
    "The notebook aims to demonstrate how Folium maps can be used for data visualization and exporting the resulting map objects to GIF format, with a specific focus on life expectancy across countries.\n",
    "\n",
    "### Import Modules"
   ]
  },
  {
   "cell_type": "code",
   "execution_count": null,
   "metadata": {},
   "outputs": [],
   "source": [
    "import pandas as pd\n",
    "import numpy as np\n",
    "import os\n",
    "import folium\n",
    "from html2image import Html2Image\n",
    "import imageio.v2 as imageio\n",
    "import warnings\n",
    "warnings.filterwarnings('ignore')"
   ]
  },
  {
   "attachments": {},
   "cell_type": "markdown",
   "metadata": {},
   "source": [
    "## Prepare Data\n",
    "To prepare the data for visualization, the first step is to load the dataset, and then fill any null or missing values with zero."
   ]
  },
  {
   "cell_type": "code",
   "execution_count": null,
   "metadata": {},
   "outputs": [],
   "source": [
    "df_life = pd.read_csv('data/gapminder/life_expectancy.csv', index_col=0)\n",
    "df_life_2022 = df_life[['2022']].reset_index()\n",
    "df_life_2022.fillna(0, inplace=True)"
   ]
  },
  {
   "attachments": {},
   "cell_type": "markdown",
   "metadata": {},
   "source": [
    "## Generating and Saving Folium Map\n",
    "\n",
    "Folium is a Python library for creating interactive maps. It works by rendering map data as HTML, CSS, and JavaScript and can display various types of map data, including markers, lines, and polygons. To create a choropleth map using Folium, we need to provide a GeoJSON file that describes the boundaries of the regions we want to display. In this case, I slightly modified the version of the [countries.geojson](https://raw.githubusercontent.com/datasets/geo-boundaries-world-110m/master/countries.geojson) file from the Geo Boundaries dataset, which contains the geographic boundaries of countries around the world. \n",
    "\n",
    "Please note some countries may have imperfect shapes, and gray areas indicate the absence of data (e.g., Kosovo)."
   ]
  },
  {
   "cell_type": "code",
   "execution_count": null,
   "metadata": {},
   "outputs": [],
   "source": [
    "m = folium.Map(location=[0,0], zoom_start=2, zoom_control=False)\n",
    "\n",
    "folium.Choropleth(\n",
    "    geo_data='data/gapminder/world-countries.json',\n",
    "    name='choropleth',\n",
    "    data=df_life_2022,\n",
    "    columns=['country', '2022'],\n",
    "    key_on='properties.name',\n",
    "    fill_opacity=0.8,\n",
    "    line_opacity=0.5,\n",
    "    fill_color='YlGnBu',\n",
    "    highlight=False,\n",
    "    smooth_factor=0.9,\n",
    "    legend_name='Life Expectancy in 1920',\n",
    "    threshold_scale=np.linspace(0, 100, 20).tolist(),\n",
    ").add_to(m)\n",
    "\n",
    "m"
   ]
  },
  {
   "attachments": {},
   "cell_type": "markdown",
   "metadata": {},
   "source": [
    "The code snippet below is to visualizing life expectancy on a world map using Folium and saving the map as HTML and PNG files"
   ]
  },
  {
   "cell_type": "code",
   "execution_count": null,
   "metadata": {},
   "outputs": [],
   "source": [
    "def visualize_map(input_year):\n",
    "    custom_df = df_life[[input_year]].reset_index()\n",
    "    custom_df.fillna(0, inplace=True)\n",
    "    m = folium.Map(location=[0,0], zoom_start=2, zoom_control=False)\n",
    "    folium.Choropleth(\n",
    "        geo_data='data/gapminder/world-countries.json',\n",
    "        name='choropleth',\n",
    "        data=custom_df,\n",
    "        columns=['country', input_year],\n",
    "        key_on='properties.name',\n",
    "        fill_opacity=0.8,\n",
    "        line_opacity=0.5,\n",
    "        fill_color='YlGnBu',\n",
    "        highlight=False,\n",
    "        smooth_factor=0.5,\n",
    "        legend_name=f'Life Expectancy in {input_year}',\n",
    "        threshold_scale=np.linspace(0, 100, 20).tolist()\n",
    "    ).add_to(m)\n",
    "\n",
    "    # You can't save the PNG directly from the map object, so we save the map as an HTML file\n",
    "    html_file = f\"./output/life_expectancy/{input_year}.html\"\n",
    "    m.save(html_file)\n",
    "\n",
    "    # Save map as PNG image using html2image\n",
    "    hti = Html2Image()\n",
    "    hti.output_path = './output/life_expectancy/'\n",
    "    hti.screenshot(html_file=html_file, save_as=f\"{input_year}.png\")\n",
    "    return m"
   ]
  },
  {
   "attachments": {},
   "cell_type": "markdown",
   "metadata": {},
   "source": [
    "Run this code snippet below to test the function. The process may take up to 5 minutes to complete, covering the years 1800 to 2050."
   ]
  },
  {
   "cell_type": "code",
   "execution_count": null,
   "metadata": {},
   "outputs": [],
   "source": [
    "for year in range(1800, 2051, 1):\n",
    "    year=str(year)\n",
    "    visualize_map(year)"
   ]
  },
  {
   "attachments": {},
   "cell_type": "markdown",
   "metadata": {},
   "source": [
    "This code snippets saves the exported PNG to GIF."
   ]
  },
  {
   "cell_type": "code",
   "execution_count": null,
   "metadata": {},
   "outputs": [],
   "source": [
    "output_dir = 'output/life_expectancy'\n",
    "images_from_dir = [os.path.join(output_dir, item) for item in os.listdir(output_dir) if item.endswith('.png')]\n",
    "images_from_dir.sort()\n",
    "\n",
    "crop_px = 200\n",
    "images = []\n",
    "for file_path in images_from_dir:\n",
    "    img = imageio.imread(file_path)\n",
    "    cropped_img = img[:-crop_px, :, :]\n",
    "    images.append(cropped_img)\n",
    "\n",
    "gif_path = './output/life_expectancy.gif'\n",
    "imageio.mimsave(gif_path, images, fps=12, loop=0)\n"
   ]
  },
  {
   "attachments": {},
   "cell_type": "markdown",
   "metadata": {},
   "source": [
    "## Conclusion\n",
    "\n",
    "![Alt Text](./output/life_expectancy.gif)\n",
    "\n",
    "The life expectancy data provides valuable insights into the progress of human health and well-being over time. Although there has been a consistent and stable growth since 1800, with some fluctuations during major historical events (Spanish Influenza and World War II), the rate of growth varies across subregions. While some regions have made significant progress, others are lagging behind, particularly in Sub-Saharan Africa and Asia. It is crucial to recognize these disparities and take action to address them. This can include investing in healthcare infrastructure, education, and public health initiatives. Ultimately, the goal should be to achieve global health equity, where everyone has an equal opportunity for a long and healthy life.\n",
    "\n",
    "## Learning Resources\n",
    "\n",
    "1. Academis by Dr. Kristian Rother [https://github.com/krother/](https://github.com/krother/Python3_Basics_Tutorial/blob/master/data_analysis/gapminder.md)\n",
    "2. Gapminder [https://www.gapminder.org/](https://www.gapminder.org/tag/life-expectancy/)\n",
    "3. Folium Documentation. [https://python-visualization.github.io/folium](https://python-visualization.github.io/folium/quickstart.html)\n",
    "4. DataHub [https://github.com/datasets](https://github.com/datasets)"
   ]
  }
 ],
 "metadata": {
  "kernelspec": {
   "display_name": "Python 3",
   "language": "python",
   "name": "python3"
  },
  "language_info": {
   "codemirror_mode": {
    "name": "ipython",
    "version": 3
   },
   "file_extension": ".py",
   "mimetype": "text/x-python",
   "name": "python",
   "nbconvert_exporter": "python",
   "pygments_lexer": "ipython3",
   "version": "3.10.6"
  },
  "orig_nbformat": 4
 },
 "nbformat": 4,
 "nbformat_minor": 2
}
